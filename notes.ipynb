{
 "cells": [
  {
   "cell_type": "code",
   "execution_count": null,
   "metadata": {},
   "outputs": [],
   "source": []
  },
  {
   "cell_type": "markdown",
   "metadata": {},
   "source": [
    "# Structure\n",
    "1. classic pipeline, params hardcoded everywhere\n",
    "2. parametrizable function, introduce DictConfig\n",
    "3. hydra decorates, introduce configuration file\n",
    "4. introduce override syntax commandline\n",
    "5. introduce sweeps (e.g. multiple seeds), sequential\n",
    "6. introduce launchers (local: joblib, but also slurm/submitit)\n",
    "7. introduce composition\n",
    "8. introduce instantiation"
   ]
  },
  {
   "cell_type": "code",
   "execution_count": null,
   "metadata": {},
   "outputs": [],
   "source": [
    "from IPython.display import Code\n",
    "\n",
    "Code(filename=\"hydra_tutorial/classic_pipeline_hardcoded.py\")"
   ]
  }
 ],
 "metadata": {
  "language_info": {
   "name": "python"
  }
 },
 "nbformat": 4,
 "nbformat_minor": 2
}
